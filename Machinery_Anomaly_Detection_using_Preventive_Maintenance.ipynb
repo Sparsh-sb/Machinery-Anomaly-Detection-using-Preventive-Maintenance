{
  "nbformat": 4,
  "nbformat_minor": 0,
  "metadata": {
    "colab": {
      "provenance": [],
      "authorship_tag": "ABX9TyPGpnM7/FknTFw+UL3qleO6",
      "include_colab_link": true
    },
    "kernelspec": {
      "name": "python3",
      "display_name": "Python 3"
    },
    "language_info": {
      "name": "python"
    }
  },
  "cells": [
    {
      "cell_type": "markdown",
      "metadata": {
        "id": "view-in-github",
        "colab_type": "text"
      },
      "source": [
        "<a href=\"https://colab.research.google.com/github/Sparsh-sb/Machinery-Anomaly-Detection-using-Preventive-Maintenance/blob/main/Machinery_Anomaly_Detection_using_Preventive_Maintenance.ipynb\" target=\"_parent\"><img src=\"https://colab.research.google.com/assets/colab-badge.svg\" alt=\"Open In Colab\"/></a>"
      ]
    },
    {
      "cell_type": "code",
      "execution_count": null,
      "metadata": {
        "id": "a667KMRJLIBB"
      },
      "outputs": [],
      "source": []
    }
  ]
}